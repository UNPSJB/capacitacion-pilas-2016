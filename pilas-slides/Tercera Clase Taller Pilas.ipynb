{
 "cells": [
  {
   "cell_type": "markdown",
   "metadata": {
    "slideshow": {
     "slide_type": "slide"
    }
   },
   "source": [
    "## Sonido\n",
    "\n",
    "Todos los ejemplos que mostremos usando el módulo **pilas.sonidos** funcionan para el módulo **pilas.musica**\n",
    "\n",
    "Para cargar un sonido se debe usar el módulo sonidos de la siguiente manera:\n",
    "\n",
    "```python\n",
    "sonido_de_explosion = pilas.sonidos.cargar('explosion.wav')\n",
    "```"
   ]
  },
  {
   "cell_type": "markdown",
   "metadata": {
    "slideshow": {
     "slide_type": "subslide"
    }
   },
   "source": [
    "Para reproducir un sonido se debe llamar al método **_reproducir_**\n",
    "```python\n",
    "sonido_de_explosion.reproducir()\n",
    "```\n",
    "\n",
    "Para reproducir el sonido indefinidamente se debe utilizar el parámetro repetir=True\n",
    "```python\n",
    "sonido_de_explosion.reproducir(repetir=True)\n",
    "```\n",
    "\n",
    "Para detener el sonido o la música se debe utilizar el método **_detener_**\n",
    "```python\n",
    "sonido_de_explosion.detener()\n",
    "```"
   ]
  },
  {
   "cell_type": "markdown",
   "metadata": {
    "slideshow": {
     "slide_type": "slide"
    }
   },
   "source": [
    "## Como crear menúes\n",
    "\n",
    "Para crear menúes en los juegos se debe utilizar el actor **Menu**. Nos permite representar diferentes opciones.\n",
    "\n",
    "```python\n",
    "import pilasengine\n",
    "\n",
    "pilas = pilasengine.iniciar()\n",
    "\n",
    "pilas.fondos.Selva()\n",
    "\n",
    "def iniciar_juego():\n",
    "    pilas.fondos.Tarde()\n",
    "    \n",
    "def salir_del_juego():\n",
    "    pilas.terminar()\n",
    "    \n",
    "\n",
    "mi_menu = pilas.actores.Menu([('iniciar juego', iniciar_juego),('salir', salir_del_juego),\n",
    "        ])\n",
    "\n",
    "mi_menu.escala = 1\n",
    "mi_menu.x = [300,0]\n",
    "\n",
    "pilas.ejecutar()\n",
    "```"
   ]
  },
  {
   "cell_type": "markdown",
   "metadata": {
    "collapsed": true,
    "slideshow": {
     "slide_type": "slide"
    }
   },
   "source": [
    "![Pilas](Menu.png)"
   ]
  },
  {
   "cell_type": "markdown",
   "metadata": {
    "slideshow": {
     "slide_type": "slide"
    }
   },
   "source": [
    "## Escenas\n",
    "\n",
    "Las escenas te permiten dividir el juego en diferentes partes.\n",
    "\n",
    "![Pilas](Escenas.png)"
   ]
  },
  {
   "cell_type": "markdown",
   "metadata": {
    "slideshow": {
     "slide_type": "subslide"
    }
   },
   "source": [
    "### Aspectos a tener en cuenta:\n",
    "\n",
    " * La escena actual esta señalada siempre por el atributo pilas.escena_actual.\n",
    " * Solo puede haber una escena activa a la vez.\n",
    "\n",
    "\n",
    "### Escena Normal\n",
    "\n",
    "Cuando iniciamos Pilas por primera se crea una escena llamada Normal. Esta escena solo imprime una pantalla azul y nos permite colocar actores sobre ella."
   ]
  },
  {
   "cell_type": "markdown",
   "metadata": {
    "slideshow": {
     "slide_type": "slide"
    }
   },
   "source": [
    "## Creando nuevas escenas - Escena Menú\n",
    "\n",
    "Debemos crear un nuevo archivo **escena_menu.py** para la clase de la escena del menú"
   ]
  },
  {
   "cell_type": "markdown",
   "metadata": {
    "slideshow": {
     "slide_type": "subslide"
    }
   },
   "source": [
    "```python\n",
    "import pilasengine\n",
    "\n",
    "pilas = pilasengine.iniciar()\n",
    "\n",
    "class EscenaMenu(pilasengine.escenas.Escena):\n",
    "\n",
    "    def iniciar(self):\n",
    "        pilas.fondos.Selva()\n",
    "        mi_menu = pilas.actores.Menu([\n",
    "            ('Iniciar', self.iniciar_juego),\n",
    "            ('Salir', self.salir_juego),\n",
    "        ])\n",
    "\n",
    "        mi_menu.escala = 1\n",
    "        mi_menu.x = [300,0]\n",
    "\n",
    "    def iniciar_juego():\n",
    "        pilas.fondos.Tarde()\n",
    "\n",
    "    def salir_del_juego():\n",
    "        pilas.terminar()\n",
    "```    "
   ]
  },
  {
   "cell_type": "markdown",
   "metadata": {
    "slideshow": {
     "slide_type": "subslide"
    }
   },
   "source": [
    "El programa principal consta de este código:\n",
    "\n",
    "```python\n",
    "import pilasengine\n",
    "\n",
    "pilas = pilasengine.iniciar()\n",
    "\n",
    "pilas.escenas.vincular(EscenaMenu)\n",
    "pilas.escenas.EscenaMenu()\n",
    "\n",
    "pilas.ejecutar()\n",
    "```"
   ]
  },
  {
   "cell_type": "markdown",
   "metadata": {
    "slideshow": {
     "slide_type": "subslide"
    }
   },
   "source": [
    "![Pilas](img/24_escena_menu.png)\n",
    "\n"
   ]
  },
  {
   "cell_type": "markdown",
   "metadata": {
    "slideshow": {
     "slide_type": "subslide"
    }
   },
   "source": [
    "## Desafío:\n",
    "\n",
    "1. Crear una nueva clase escena para el juego. (Lo único que tendría que hacer es establecer un nuevo fondo)\n",
    "2. Hacer que el menú al iniciar establezca esa escena.\n"
   ]
  },
  {
   "cell_type": "markdown",
   "metadata": {
    "slideshow": {
     "slide_type": "slide"
    }
   },
   "source": [
    "## Botón\n",
    "\n",
    "```python\n",
    "import pilasengine\n",
    "\n",
    "pilas = pilasengine.iniciar()\n",
    "\n",
    "boton = pilas.interfaz.Boton('Saludar')\n",
    "def saludar():\n",
    "    boton.decir('hola')\n",
    "\n",
    "boton.conectar(saludar)\n",
    "    \n",
    "\n",
    "pilas.ejecutar()\n",
    "```\n",
    "![Pilas](BotonSaludar.png)\n"
   ]
  },
  {
   "cell_type": "markdown",
   "metadata": {
    "slideshow": {
     "slide_type": "slide"
    }
   },
   "source": [
    "## Creación de habilidades personalizadas\n",
    "\n",
    "Para crear una habilidad nueva, se debe crear una clase y vincularla al módulo de habilidades.\n",
    "\n",
    "La clase tiene que heredar de pilasengine.habilidades.Habilidad y puede tener un método actualizar, en donde generalmente se coloca la acción a realizar:\n",
    "\n",
    "```python\n",
    "import pilasengine\n",
    "\n",
    "pilas = pilasengine.iniciar()\n",
    "\n",
    "class GirarPorSiempre(pilasengine.habilidades.Habilidad):\n",
    "\n",
    "    def actualizar(self):\n",
    "        self.receptor.rotacion += 1        #self.receptor apunta al actor que conoce esta habilidad\n",
    "\n",
    "pilas.habilidades.vincular(GirarPorSiempre)   #Se vincula la nueva habilidad al módulo de habilidades\n",
    "\n",
    "actor = pilas.actores.Actor()\n",
    "actor.imagen = 'calabaza.png'\n",
    "actor.aprender('GirarPorSiempre')\n",
    "\n",
    "\n",
    "pilas.ejecutar()\n",
    "```"
   ]
  },
  {
   "cell_type": "markdown",
   "metadata": {
    "slideshow": {
     "slide_type": "slide"
    }
   },
   "source": [
    "![Pilas](CalabazaGiratoria.png)"
   ]
  },
  {
   "cell_type": "code",
   "execution_count": 12,
   "metadata": {
    "collapsed": false,
    "slideshow": {
     "slide_type": "skip"
    }
   },
   "outputs": [
    {
     "name": "stderr",
     "output_type": "stream",
     "text": [
      "[NbConvertApp] Converting notebook Tercera Clase Taller Pilas.ipynb to slides\n",
      "[NbConvertApp] Writing 266909 bytes to Tercera Clase Taller Pilas.slides.html\n"
     ]
    }
   ],
   "source": [
    "!jupyter nbconvert --reveal-prefix ./reveal.js/ --to slides  \"Tercera Clase Taller Pilas.ipynb\""
   ]
  },
  {
   "cell_type": "markdown",
   "metadata": {
    "collapsed": true,
    "slideshow": {
     "slide_type": "skip"
    }
   },
   "source": [
    "!open Tercera\\ Clase\\ Taller\\ Pilas.slides.html"
   ]
  }
 ],
 "metadata": {
  "anaconda-cloud": {},
  "celltoolbar": "Slideshow",
  "kernelspec": {
   "display_name": "Python [Root]",
   "language": "python",
   "name": "Python [Root]"
  },
  "language_info": {
   "codemirror_mode": {
    "name": "ipython",
    "version": 3
   },
   "file_extension": ".py",
   "mimetype": "text/x-python",
   "name": "python",
   "nbconvert_exporter": "python",
   "pygments_lexer": "ipython3",
   "version": "3.5.2"
  }
 },
 "nbformat": 4,
 "nbformat_minor": 0
}
