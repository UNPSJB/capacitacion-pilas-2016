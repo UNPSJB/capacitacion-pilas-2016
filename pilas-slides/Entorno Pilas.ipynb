{
 "cells": [
  {
   "cell_type": "markdown",
   "metadata": {
    "slideshow": {
     "slide_type": "slide"
    }
   },
   "source": [
    "# PILAS ENGINE\n",
    "\n",
    "Herramienta que permite crear tus propios videojuegos y aprender a programar\n"
   ]
  },
  {
   "cell_type": "markdown",
   "metadata": {
    "slideshow": {
     "slide_type": "slide"
    }
   },
   "source": [
    "## Características\n",
    "\n",
    " * Es multiplataforma.\n",
    " * Cuenta con objetos prediseñados para agilizar el desarrollo.\n",
    " * Documentación en español.\n",
    " * Es software libre.\n",
    " * Interactivo."
   ]
  },
  {
   "cell_type": "markdown",
   "metadata": {
    "slideshow": {
     "slide_type": "slide"
    }
   },
   "source": [
    "## ¿Qué tipos de juegos podemos realizar?\n",
    "\n",
    " * Juegos sencillos (Naves)\n",
    " * Juegos sobre mapas (Autos)\n",
    " * Juegos de plataformas\n",
    " * Juegos con escenarios complejos (Shaolin)\n",
    " \n",
    "![Pilas](img/00_juegos.png)\n"
   ]
  },
  {
   "cell_type": "markdown",
   "metadata": {
    "slideshow": {
     "slide_type": "slide"
    }
   },
   "source": [
    "## Instalación\n",
    "\n",
    "Es fácil para cada Sistema Operativo. \n",
    "\n",
    "Se descarga del sitio web:\n",
    "\n",
    "http://pilas-engine.com.ar/#/descargas\n"
   ]
  },
  {
   "cell_type": "markdown",
   "metadata": {
    "slideshow": {
     "slide_type": "slide"
    }
   },
   "source": [
    "## Iniciando Pilas\n",
    "\n",
    "![Pilas](img/01_inicial.png)\n",
    "\n"
   ]
  },
  {
   "cell_type": "markdown",
   "metadata": {
    "slideshow": {
     "slide_type": "slide"
    }
   },
   "source": [
    "## Editor\n",
    "\n",
    "El **Editor** nos permite guardar nuestro código, editarlo y compartirlo.\n",
    "\n",
    "![Pilas](img/02_editor.png)"
   ]
  },
  {
   "cell_type": "markdown",
   "metadata": {
    "slideshow": {
     "slide_type": "slide"
    }
   },
   "source": [
    "## Guardar mi Juego\n",
    "\n",
    "![Pilas](img/19_guardar.png)"
   ]
  },
  {
   "cell_type": "markdown",
   "metadata": {
    "slideshow": {
     "slide_type": "slide"
    }
   },
   "source": [
    "## Líneas iniciales\n",
    "\n",
    "\n",
    "\n",
    "```python\n",
    "\n",
    "#Le indica a Python que use la librería Pilas\n",
    "import pilasengine              \n",
    "\n",
    "#Prepara la ventana para empezar a usar Pilas\n",
    "pilas = pilasengine.iniciar()   \n",
    "\n",
    "#Crea un personaje mono en el centro de \n",
    "#la pantalla y le da un nombre\n",
    "mono = pilas.actores.Mono()     \n",
    "\n",
    "#Esta línea de código hace que el juego se \n",
    "#mantenga en funcionamiento\n",
    "pilas.ejecutar()                \n",
    "\n",
    "```"
   ]
  },
  {
   "cell_type": "markdown",
   "metadata": {
    "slideshow": {
     "slide_type": "slide"
    }
   },
   "source": [
    "## Creando Actores\n",
    "\n",
    "Un Actor es un objeto que aparece en pantalla, tiene una posición y se lo puede manipular.\n",
    "\n",
    "El mono inicialmente aparece en la posición (0,0).\n",
    "\n",
    "![Pilas](img/03_mono.png)\n",
    "\n"
   ]
  },
  {
   "cell_type": "markdown",
   "metadata": {
    "slideshow": {
     "slide_type": "slide"
    }
   },
   "source": [
    "## Indicar acciones al actor\n",
    "\n",
    "Esto se logra usando su nombre y sentencias simples.\n",
    "Por ejemplo, podemos lograr que el mono sonría escribiendo la siguiente instrucción:\n",
    "\n",
    "```python\n",
    "mono.sonreir()\n",
    "\n",
    "```\n",
    "![Pilas](img/20_sonreir.png)\n"
   ]
  },
  {
   "cell_type": "markdown",
   "metadata": {
    "slideshow": {
     "slide_type": "slide"
    }
   },
   "source": [
    "## Características comunes a todos los actores"
   ]
  },
  {
   "cell_type": "markdown",
   "metadata": {
    "slideshow": {
     "slide_type": "subslide"
    }
   },
   "source": [
    "### Posición\n",
    "\n",
    "Se puede cambiar la posición del actor mediante las coordenadas x e y\n",
    "\n",
    "```python\n",
    "mono.x = 200\n",
    "mono.y = 100\n",
    "\n",
    "```\n",
    "![Pilas](img/04_posicion.png)"
   ]
  },
  {
   "cell_type": "markdown",
   "metadata": {
    "slideshow": {
     "slide_type": "subslide"
    }
   },
   "source": [
    "### Escala y Rotación\n",
    "\n",
    "Se puede modificar el tamaño e indicar la rotación en grados que debe tener el actor\n",
    "\n",
    "```python\n",
    "mono.escala = 2\n",
    "mono.rotacion = 45\n",
    "```\n",
    "![Pilas](img/05_escala_rotacion.png)"
   ]
  },
  {
   "cell_type": "markdown",
   "metadata": {
    "slideshow": {
     "slide_type": "subslide"
    }
   },
   "source": [
    "### Eliminar Actor\n",
    "\n",
    "Se puede sacar un actor de la pantalla utilizando la instrucción eliminar()\n",
    "\n",
    "```python\n",
    "mono.eliminar()\n",
    "```"
   ]
  },
  {
   "cell_type": "markdown",
   "metadata": {
    "slideshow": {
     "slide_type": "slide"
    }
   },
   "source": [
    "### Cambiar atributos con botón derecho\n",
    "\n",
    "Podemos modificar varios atributos sin reescribir el valor. Utilizando el botón derecho del mouse (o del trackpad de tu netbook) podés usar un control deslizable que previsualizará en vivo los cambios. Se pude usar con los los atributos escala, rotacion, x, y, etc.\n",
    "\n",
    "![Pilas](img/06_click_derecho.png)"
   ]
  },
  {
   "cell_type": "markdown",
   "metadata": {
    "slideshow": {
     "slide_type": "slide"
    }
   },
   "source": [
    "### Animaciones\n",
    "\n",
    "Podemos usar las propiedades anteriores para hacer animaciones. Por ejemplo:"
   ]
  },
  {
   "cell_type": "markdown",
   "metadata": {
    "slideshow": {
     "slide_type": "subslide"
    }
   },
   "source": [
    " * El actor puede dar una vuelta completa\n",
    "```python\n",
    "mono.rotacion = [360]\n",
    "```\n",
    " \n",
    " * El actor puede moverse horizontalmente\n",
    "```python\n",
    "mono.x = [-200,200]\n",
    "```"
   ]
  },
  {
   "cell_type": "markdown",
   "metadata": {
    "slideshow": {
     "slide_type": "subslide"
    }
   },
   "source": [
    " * Repetir n veces la animación\n",
    "```python\n",
    "mono.x = [-200,200]*5\n",
    "```\n",
    " \n",
    " * Variar la velocidad de la animación\n",
    "```python\n",
    "mono.x = [-200,200],10\n",
    "```"
   ]
  },
  {
   "cell_type": "markdown",
   "metadata": {
    "slideshow": {
     "slide_type": "subslide"
    }
   },
   "source": [
    "## Desafío:\n",
    "\n",
    "1. Hacer que el modo se sacuda sin perder la posición donde esta. (Recordar cambiar la posición inicial del mono).\n",
    "\n",
    "```python\n",
    "\n",
    "mono.x = 100\n",
    "mono.y = 100\n",
    "\n",
    "mono.???\n",
    "\n",
    "```\n"
   ]
  },
  {
   "cell_type": "markdown",
   "metadata": {
    "slideshow": {
     "slide_type": "subslide"
    }
   },
   "source": [
    "![Pilas](img/21_desafio_animacion.png)"
   ]
  },
  {
   "cell_type": "markdown",
   "metadata": {
    "slideshow": {
     "slide_type": "slide"
    }
   },
   "source": [
    "## Ayuda en línea\n",
    "\n",
    "![Pilas](img/07_ayuda.png)"
   ]
  },
  {
   "cell_type": "markdown",
   "metadata": {
    "slideshow": {
     "slide_type": "slide"
    }
   },
   "source": [
    "## ¿Qué sabemos hasta acá?\n",
    "\n",
    "* Qué es **Pilas**\n",
    "* Qué Juegos podemos crear\n",
    "* Cómo utilizar el **Editor**\n",
    "* **Código** inicial que lleva cualquier juego\n",
    "* Cómo crear **actores** predefinidos\n",
    "* Cómo ejecutar **acciones** de los actores\n",
    "* Las características comunes de los actores\n",
    "* Cómo hacer **animaciones**\n",
    "* Cómo recurrir a la **ayuda en línea**"
   ]
  },
  {
   "cell_type": "markdown",
   "metadata": {
    "slideshow": {
     "slide_type": "slide"
    }
   },
   "source": [
    "## Conceptos básicos\n",
    "\n",
    "### Programación ¿Para qué?\n",
    "\n",
    "Para darle órdenes a la computadora\n",
    "\n",
    "### Instrucciones\n",
    "\n",
    "1. Crear una ventana\n",
    "2. Crear una Nave\n",
    "3. Duplicar su tamaño\n",
    "4. Mover 10 pixeles hacia arriba"
   ]
  },
  {
   "cell_type": "markdown",
   "metadata": {
    "slideshow": {
     "slide_type": "slide"
    }
   },
   "source": [
    "### Sintaxis\n",
    "\n",
    "Conjunto de reglas que deben seguirse al escribir código para que pueda interpretarlo correctamemte la computadora.\n",
    "\n",
    "```python\n",
    "#Creo la ventana\n",
    "pilas = pilasengine.iniciar(300,200)      \n",
    "#Creo la Nave\n",
    "nave = pilas.actores.Nave() \n",
    "#Duplico su tamaño\n",
    "nave.escala = 2                      \n",
    "#Muevo la nave 10 pixeles hacia arriba\n",
    "nave.y = 10                 \n",
    "```\n",
    "\n",
    "![Pilas](img/22_nave.png)"
   ]
  },
  {
   "cell_type": "markdown",
   "metadata": {
    "slideshow": {
     "slide_type": "slide"
    }
   },
   "source": [
    "### Autocompletado\n",
    "\n",
    "![Pilas](img/08_autocompletado.png)"
   ]
  },
  {
   "cell_type": "markdown",
   "metadata": {
    "slideshow": {
     "slide_type": "slide"
    }
   },
   "source": [
    "### Error de Sintáxis\n",
    "\n",
    "Pilas informa el error de sintáxis cometido. En el ejemplo muestra que el nombre del personaje no está definido\n",
    "\n",
    "![Pilas](img/09_error.png)"
   ]
  },
  {
   "cell_type": "markdown",
   "metadata": {
    "slideshow": {
     "slide_type": "slide"
    }
   },
   "source": [
    "## Variables\n",
    "\n",
    "El nombre de variable sirve para referirnos a un actor y poder realizar acciones sobre él.\n",
    "\n",
    "Por ejemplo: **nave1** es el nombre de una variable.\n",
    "\n",
    "Uno puede crear varias naves utilizando distintos nombres de variables. Para realizar acciones con cada nave se debe utilzar el nombre que le hemos otorgado."
   ]
  },
  {
   "cell_type": "markdown",
   "metadata": {
    "slideshow": {
     "slide_type": "subslide"
    }
   },
   "source": [
    "![Pilas](img/10_variables.png)\n",
    "\n",
    "Si quiero eliminar la primera nave debo utilizar el nombre de variable **nave1**."
   ]
  },
  {
   "cell_type": "markdown",
   "metadata": {
    "slideshow": {
     "slide_type": "slide"
    }
   },
   "source": [
    "## Habilidades\n",
    "\n",
    "Una habilidad es una funcionalidad que está implementada en alguna clase y puede ser vinculada a un actor cualquiera.\n",
    "\n",
    "Ejemplo: Aumentar el tamaño de un actor con la rueda del mouse. Para lograr esto se puede utilizar la habilidad **_AumentarConRueda_**"
   ]
  },
  {
   "cell_type": "markdown",
   "metadata": {
    "slideshow": {
     "slide_type": "subslide"
    }
   },
   "source": [
    "```python\n",
    "import pilasengine\n",
    "\n",
    "pilas = pilasengine.iniciar()\n",
    "\n",
    "mono = pilas.actores.Mono()\n",
    "mono.aprender(pilas.habilidades.AumentarConRueda)\n",
    "```\n",
    "\n",
    "o bien se puede usar directamente la instrucción \n",
    "\n",
    "```python\n",
    "mono.aprender('AumentarConRueda')\n",
    "```"
   ]
  },
  {
   "cell_type": "markdown",
   "metadata": {
    "slideshow": {
     "slide_type": "subslide"
    }
   },
   "source": [
    "### DESAFIO:\n",
    "\n",
    "\n",
    "1. Hacer que el mono aprenda a **'MoverseComoCoche'**. \n"
   ]
  },
  {
   "cell_type": "markdown",
   "metadata": {
    "slideshow": {
     "slide_type": "subslide"
    }
   },
   "source": [
    "![Pilas](img/14_moverse_como_coche.png)"
   ]
  },
  {
   "cell_type": "markdown",
   "metadata": {
    "slideshow": {
     "slide_type": "subslide"
    }
   },
   "source": [
    "### DESAFIO:\n",
    "\n",
    "2. Hacer que el mono aprenda a **'Disparar'**\n",
    "3. Hacer que el mono tenga como **munición** una **'Banana'**"
   ]
  },
  {
   "cell_type": "markdown",
   "metadata": {
    "slideshow": {
     "slide_type": "subslide"
    }
   },
   "source": [
    "La munición utilizada es por omisión. Si se quiere cambiar la munición se debe especificar.\n",
    "\n",
    "![Pilas](img/11_aprender.png)"
   ]
  },
  {
   "cell_type": "markdown",
   "metadata": {
    "slideshow": {
     "slide_type": "subslide"
    }
   },
   "source": [
    "### Desafío: \n",
    "\n",
    "1. Hacer que un actor se pueda mover con el mouse. \n",
    "\n"
   ]
  },
  {
   "cell_type": "markdown",
   "metadata": {
    "slideshow": {
     "slide_type": "subslide"
    }
   },
   "source": [
    "![Pilas](img/15_arrastrable.png)"
   ]
  },
  {
   "cell_type": "markdown",
   "metadata": {
    "slideshow": {
     "slide_type": "slide"
    }
   },
   "source": [
    "## Fondo de la Escena\n",
    "\n",
    "Cuando uno inicia Pilas el fondo de nuestra pantalla es todo azul. Hay fondos predefinidos que ofrece Pilas. Se puede cambiar el mismo usando la siguiente sentencia de código:\n",
    "\n",
    "```python\n",
    "pilas.fondos.Volley()\n",
    "```\n",
    "![Pilas](img/23_fondo.png)"
   ]
  },
  {
   "cell_type": "markdown",
   "metadata": {
    "slideshow": {
     "slide_type": "slide"
    }
   },
   "source": [
    "## Intérprete\n",
    "\n",
    "El intérprete sirve para hacer pruebas o experimentos rápidos. El problema del Intérprete es que elimina todo lo que hicimos cuando lo cerramos. Por tal motivo, usamos directamente el Editor."
   ]
  },
  {
   "cell_type": "markdown",
   "metadata": {
    "slideshow": {
     "slide_type": "subslide"
    }
   },
   "source": [
    "![Pilas](img/16_interprete.png)\n",
    "\n",
    "\n",
    "En el intérprete no es necesario escribir la línea **pilas.ejecutar()**. Se pueden ejecutar comandos en un programa en ejecución."
   ]
  },
  {
   "cell_type": "markdown",
   "metadata": {
    "slideshow": {
     "slide_type": "slide"
    }
   },
   "source": [
    "# Creando actores\n",
    "\n",
    "Los actores sirven para representar a los personajes dentro del videojuego. Tienen sus propios atributos, apariencia y comportamiento.\n",
    "\n",
    "Pilas ofrece una cantidad de actores prediseñados o te permite crear tu propio actor."
   ]
  },
  {
   "cell_type": "markdown",
   "metadata": {
    "slideshow": {
     "slide_type": "subslide"
    }
   },
   "source": [
    "## Creando tu propio actor\n",
    "\n",
    "\n",
    "![Pilas](img/17_actor_basico.png)\n",
    "\n",
    "```python\n",
    "actor = pilas.actores.Actor()\n",
    "```\n"
   ]
  },
  {
   "cell_type": "markdown",
   "metadata": {
    "slideshow": {
     "slide_type": "subslide"
    }
   },
   "source": [
    "## Agregando imagen al actor\n",
    "\n",
    "![Pilas](img/18_actor_imagen.png)\n",
    "\n",
    "```python\n",
    "actor.imagen = 'calabaza.png'\n",
    "```\n",
    "\n",
    "Importante: Uno debe guardar la imagen dentro de la carpeta donde se encuentra nuestro juego, en caso contrario deberá indicar la ruta donde se encuentra la imagen."
   ]
  },
  {
   "cell_type": "markdown",
   "metadata": {
    "slideshow": {
     "slide_type": "slide"
    }
   },
   "source": [
    "## ¿Qué sabemos hasta acá?\n",
    "\n",
    "* Conceptos básicos de **Programación**\n",
    "* Qué es **Sintáxis** y errores\n",
    "* Autocompletado\n",
    "* Qué son las **variables** \n",
    "* Usar **habilidades**\n",
    "* Cambiar el **fondo** de la escena\n",
    "* Uso del **Intérprete**\n",
    "* Crear **Actores propios**"
   ]
  },
  {
   "cell_type": "code",
   "execution_count": 29,
   "metadata": {
    "collapsed": false,
    "slideshow": {
     "slide_type": "skip"
    }
   },
   "outputs": [
    {
     "name": "stderr",
     "output_type": "stream",
     "text": [
      "[NbConvertApp] Converting notebook Entorno Pilas.ipynb to slides\n",
      "[NbConvertApp] Writing 278770 bytes to Entorno Pilas.slides.html\n"
     ]
    }
   ],
   "source": [
    "!jupyter nbconvert --reveal-prefix ./reveal.js/ --to slides \"Entorno Pilas.ipynb\" \n"
   ]
  },
  {
   "cell_type": "markdown",
   "metadata": {
    "collapsed": true,
    "slideshow": {
     "slide_type": "skip"
    }
   },
   "source": [
    "!open Entorno\\ Pilas.slides.html"
   ]
  }
 ],
 "metadata": {
  "anaconda-cloud": {},
  "celltoolbar": "Slideshow",
  "kernelspec": {
   "display_name": "Python [Root]",
   "language": "python",
   "name": "Python [Root]"
  },
  "language_info": {
   "codemirror_mode": {
    "name": "ipython",
    "version": 3
   },
   "file_extension": ".py",
   "mimetype": "text/x-python",
   "name": "python",
   "nbconvert_exporter": "python",
   "pygments_lexer": "ipython3",
   "version": "3.5.2"
  }
 },
 "nbformat": 4,
 "nbformat_minor": 0
}
