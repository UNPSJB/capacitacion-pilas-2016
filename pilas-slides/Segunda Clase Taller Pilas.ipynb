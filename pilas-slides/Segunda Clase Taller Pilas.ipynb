{
 "cells": [
  {
   "cell_type": "markdown",
   "metadata": {
    "slideshow": {
     "slide_type": "slide"
    }
   },
   "source": [
    "# Funciones\n",
    "\n",
    "Las funciones permiten a pilas hacer fragmentos de código reutilizables separando en definición y llamado(s).\n",
    "\n",
    "\n",
    "### Definición\n",
    "\n",
    "```python\n",
    "def crear_banana(x):\n",
    "    banana = pilas.actores.Banana()\n",
    "    banana.x = x\n",
    "    banana.escala = 2\n",
    "```"
   ]
  },
  {
   "cell_type": "markdown",
   "metadata": {
    "slideshow": {
     "slide_type": "subslide"
    }
   },
   "source": [
    "Esta definición se compone de:\n",
    " * palabra **`def`**\n",
    " * nombre\n",
    "     - `crear_banana` en nuestro caso\n",
    " * parámetros\n",
    "     - Todo lo que está entre paréntesis, `x` en nuestro caso\n",
    " * apertura de bloque\n",
    "     - el `:` luego del cierre de los parámetros\n",
    " * bloque\n",
    "     - todo lo que está con indentado o sangría "
   ]
  },
  {
   "cell_type": "markdown",
   "metadata": {
    "slideshow": {
     "slide_type": "subslide"
    }
   },
   "source": [
    "## Llamado\n",
    "\n",
    "Utilizando el `crear_banana(x)` de nuestro ejemplo anterior, una llamada podría ser:\n",
    "\n",
    "```python\n",
    "crear_banana(100)\n",
    "```\n",
    "\n",
    "Dentro de la función, `x` tomará el valor 100 hasta que se termine el bloque."
   ]
  },
  {
   "cell_type": "markdown",
   "metadata": {
    "slideshow": {
     "slide_type": "slide"
    }
   },
   "source": [
    "# Desafío\n",
    "\n",
    "Cree una función **`sacudida()`** que mueva al mono de -200 a 200 en `x` e `y`."
   ]
  },
  {
   "cell_type": "markdown",
   "metadata": {
    "slideshow": {
     "slide_type": "slide"
    }
   },
   "source": [
    "```python\n",
    "# ...\n",
    "mono = pilas.actores.Mono()\n",
    "\n",
    "def sacudida():\n",
    "    mono.x = 0\n",
    "    mono.y = 0\n",
    "    mono.x = [-200, 200] * 10\n",
    "    mono.y = [-200, 200] * 10\n",
    "    \n",
    "sacudida()\n",
    "\n",
    "pilas.ejecutar()\n",
    "```"
   ]
  },
  {
   "cell_type": "markdown",
   "metadata": {
    "slideshow": {
     "slide_type": "slide"
    }
   },
   "source": [
    "# Desafío 2\n",
    "\n",
    "Cree dos monos y cree **`sacudir_mono(mono)`** que sacuda el mono que se pasa como parámetro."
   ]
  },
  {
   "cell_type": "markdown",
   "metadata": {
    "slideshow": {
     "slide_type": "slide"
    }
   },
   "source": [
    "```python\n",
    "def sacudir_mono(un_mono):\n",
    "    un_mono.x = [-200, 200]\n",
    "    un_mono.y = [-200, 200]\n",
    "    \n",
    "```"
   ]
  },
  {
   "cell_type": "markdown",
   "metadata": {
    "slideshow": {
     "slide_type": "slide"
    }
   },
   "source": [
    "# Desafío 3\n",
    "\n",
    "Modificar la función anetrior para sacudir cualquier actor sin perder la posición."
   ]
  },
  {
   "cell_type": "markdown",
   "metadata": {
    "slideshow": {
     "slide_type": "slide"
    }
   },
   "source": [
    "```python\n",
    "def sacudir_actor(actor):\n",
    "    actor.x = [actor.x-200, actor.x+200] * 3\n",
    "    actor.y = [actor.y-200, actor.y+200] * 3    \n",
    "```"
   ]
  },
  {
   "cell_type": "markdown",
   "metadata": {
    "slideshow": {
     "slide_type": "slide"
    }
   },
   "source": [
    "# Condiciones\n",
    "\n",
    "La palabra `if` permite en pilas definir una condición.\n",
    "\n",
    "Todo lo que querramos que se ejecute cuando se cumpla la condición **debe estar indentado con respecto al nivel de la condición 4 espacios** (Pilas hace esto autmáticamente con la tecla tabulación).\n",
    "```python\n",
    "\n",
    "if mono.x > 100:\n",
    "    sacudir_mono(mono)\n",
    "```\n"
   ]
  },
  {
   "cell_type": "markdown",
   "metadata": {
    "slideshow": {
     "slide_type": "subslide"
    }
   },
   "source": [
    "# Más condiciones\n",
    "```python\n",
    "\n",
    "if mono.x > 100:\n",
    "    mono.decir(\">100\")\n",
    "else:\n",
    "    mono.decir(\"<=100\")\n",
    "```"
   ]
  },
  {
   "cell_type": "markdown",
   "metadata": {
    "slideshow": {
     "slide_type": "subslide"
    }
   },
   "source": [
    "# Condiciones múltiples\n",
    "\n",
    "```python\n",
    "if mono.escala < 1:\n",
    "    mono.decir(\"Soy chiquito\")\n",
    "elif mono.escala == 1:\n",
    "    mono.decir(\"Estoy en mi tamaño natural\")\n",
    "else:\n",
    "    mono.decir(\"Estoy más grande que mi tamaño natural\")\n",
    "```"
   ]
  },
  {
   "cell_type": "markdown",
   "metadata": {
    "slideshow": {
     "slide_type": "slide"
    }
   },
   "source": [
    "# Creando actores propios\n",
    "\n",
    "## Creación de una Clase\n",
    "\n",
    "Sirve para agrupar toda la funcionalidad esperada del actor.\n",
    "\n",
    "Vamos a utilizar la imagen **alien.png** la cual se encuentra en la carpeta data de pilas engine."
   ]
  },
  {
   "cell_type": "markdown",
   "metadata": {
    "slideshow": {
     "slide_type": "slide"
    }
   },
   "source": [
    "# Importante sobre las clases\n",
    "\n",
    "1. Empiezan con **`class`** en vez de **`def`**.\n",
    "2. El cuerpo de la clase tiene funciones que tienen un argumento **`self`**. Todas indentadas!\n",
    "3. **`self`** respresenta **cada** actor o **ese** actor en pilas.\n",
    "    - Ejemplo: `self.x` es la propiedad **`x`** de ese actor en ese momento dado.\n",
    "4. Existe una serie de métodos que podemos **pisar** para configurar nuestro actor.\n"
   ]
  },
  {
   "cell_type": "markdown",
   "metadata": {
    "slideshow": {
     "slide_type": "subslide"
    }
   },
   "source": [
    "Código inicial para crear una clase:\n",
    "\n",
    "```python\n",
    "import pilasengine\n",
    "\n",
    "class Alien(pilasengine.actores.Actor):\n",
    "\n",
    "    def iniciar(self):\n",
    "        self.imagen = \"alien.png\"\n",
    "```"
   ]
  },
  {
   "cell_type": "markdown",
   "metadata": {
    "slideshow": {
     "slide_type": "slide"
    }
   },
   "source": [
    "Lo anterior crea la definición del actor pero no lo incorpora al juego. Para lograr esto se debe escribir la siguiente sentencia:\n",
    "\n",
    "```python\n",
    "alien = Alien(pilas)\n",
    "```\n",
    "![Pilas](ClaseAlien.png)"
   ]
  },
  {
   "cell_type": "markdown",
   "metadata": {
    "slideshow": {
     "slide_type": "slide"
    }
   },
   "source": [
    "La instrucción **pilasengine.actores.Actor** indica que el Alien incorporará por **_herencia_** lo que saben hacer casi todos los actores de Pilas. La herencia la indicamos con la siguiente instrucción: \n",
    "\n",
    "```python \n",
    "class Alien(pilasengine.actores.Actor)\n",
    "```\n",
    "\n",
    "Por ejemplo:\n",
    "```python\n",
    "alien.decir(\"Hola chicos\")\n",
    "```\n",
    "\n",
    "![Pilas](AlienHabla.png)"
   ]
  },
  {
   "cell_type": "markdown",
   "metadata": {
    "slideshow": {
     "slide_type": "slide"
    }
   },
   "source": [
    "## Creación de métodos\n",
    "\n",
    "La creación de métodos nos permite agregar nueva funcionalidad a los actores. Para referirnos al actor dentro de un método debemos utilizar la palabra **self**\n",
    "\n",
    "Por ejemplo, podemos definir dos nuevos métodos para el alien."
   ]
  },
  {
   "cell_type": "markdown",
   "metadata": {
    "slideshow": {
     "slide_type": "subslide"
    }
   },
   "source": [
    "```python\n",
    "import pilasengine\n",
    "\n",
    "pilas = pilasengine.iniciar()\n",
    "class Alien(pilasengine.actores.Actor):\n",
    "\n",
    "    def iniciar(self):\n",
    "        self.imagen = \"alien.png\"\n",
    "\n",
    "    def saludar(self):\n",
    "        self.decir(\"Hola mundo!!!, soy el nuevo actor alien\")\n",
    "\n",
    "    def dar_vuelta(self):\n",
    "        self.rotacion = [360]\n",
    "```"
   ]
  },
  {
   "cell_type": "markdown",
   "metadata": {
    "slideshow": {
     "slide_type": "slide"
    }
   },
   "source": [
    "## Método actualizar\n",
    "\n",
    "Es un método que se llama autómaticamente 60 veces por segundo. Nos permite realizar una operación continua sobre el personaje.\n",
    "\n",
    "Por ejemplo: podemos mover el alien con el teclado y que mire hacia el lado que se desplaza.\n",
    "\n",
    "```python\n",
    "    def actualizar(self):\n",
    "        if pilas.control.izquierda:\n",
    "            self.x -= 5\n",
    "            self.espejado = True\n",
    "        if pilas.control.derecha:\n",
    "            self.x += 5\n",
    "            self.espejado = False\n",
    "```\n",
    "\n"
   ]
  },
  {
   "cell_type": "markdown",
   "metadata": {
    "slideshow": {
     "slide_type": "slide"
    }
   },
   "source": [
    "## Controles\n",
    "\n",
    "Para lograr que el autor se mueva utilizando el teclado debemos hacer referencia a **pilas.control**\n",
    "Es ideal colocar las instrucciones de control dentro del **método actualizar** del actor."
   ]
  },
  {
   "cell_type": "markdown",
   "metadata": {
    "slideshow": {
     "slide_type": "subslide"
    }
   },
   "source": [
    "```python\n",
    "import pilasengine\n",
    "\n",
    "pilas = pilasengine.iniciar()\n",
    "\n",
    "class MiActor(pilasengine.actores.Actor):\n",
    "\n",
    "    def iniciar(self):\n",
    "        self.imagen = pilas.imagenes.cargar(\"aceituna.png\")\n",
    "\n",
    "    def actualizar(self):\n",
    "        if pilas.control.abajo:\n",
    "            self.y -= 10\n",
    "\n",
    "        if pilas.control.arriba:\n",
    "            self.y += 10\n",
    "\n",
    "MiActor(pilas)\n",
    "\n",
    "pilas.ejecutar()\n",
    "```"
   ]
  },
  {
   "cell_type": "markdown",
   "metadata": {
    "slideshow": {
     "slide_type": "subslide"
    }
   },
   "source": [
    "![Pilas](img/controles.png)"
   ]
  },
  {
   "cell_type": "markdown",
   "metadata": {
    "slideshow": {
     "slide_type": "slide"
    }
   },
   "source": [
    "## Parámetros iniciales\n",
    "\n",
    "Se pueden crear actores indicando sus valores iniciales como su posición, energía, etc.\n",
    "\n",
    "Se podría crear el actor Alien con los siguientes valores iniciales\n",
    "\n",
    "```python\n",
    "\n",
    "alien = Alien(pilas, energia=100, nombre=\"luis\", con_sombra=True)\n",
    "\n",
    "```\n",
    "\n",
    "y se deberían implementar los siguientes métodos:"
   ]
  },
  {
   "cell_type": "markdown",
   "metadata": {
    "slideshow": {
     "slide_type": "subslide"
    }
   },
   "source": [
    "```python\n",
    "\n",
    "class Alien(pilasengine.actores.Actor):\n",
    "\n",
    "    def iniciar(self, energia, nombre, con_sombra):\n",
    "        self.imagen = \"alien.png\"\n",
    "\n",
    "        self.nombre = nombre\n",
    "        self.energia = energia\n",
    "\n",
    "        if con_sombra:\n",
    "            self.sombra = pilas.actores.Sombra()\n",
    "            self.sombra.escala = 0.6\n",
    "            self.sombra.y = -45\n",
    "        else:\n",
    "            self.sombra = None\n",
    "\n",
    "        self.decir(\"Hola, me llamo \" + nombre)\n",
    "        \n",
    "```"
   ]
  },
  {
   "cell_type": "markdown",
   "metadata": {
    "slideshow": {
     "slide_type": "subslide"
    }
   },
   "source": [
    "```python\n",
    "\n",
    "    def actualizar(self):\n",
    "        # Si el actor tiene sombra, hacemos que siga al\n",
    "        # actor.\n",
    "        if self.sombra:\n",
    "            self.sombra.x = self.x\n",
    "            self.sombra.y = self.y -45\n",
    "\n",
    "```"
   ]
  },
  {
   "cell_type": "markdown",
   "metadata": {
    "slideshow": {
     "slide_type": "subslide"
    }
   },
   "source": [
    "![Pilas](alienluis.png)"
   ]
  },
  {
   "cell_type": "markdown",
   "metadata": {
    "slideshow": {
     "slide_type": "slide"
    }
   },
   "source": [
    "## Desafío:\n",
    "\n",
    "1. En la clase Alien agregar un parámetro speed con valor por defecto 5.\n",
    "2. Modificar los controles para que el alien use ese valor speed para moverse.\n",
    "3. En el programa principal lograr que haya dos actores alien que se muevan a distinta velocidad."
   ]
  },
  {
   "cell_type": "markdown",
   "metadata": {
    "slideshow": {
     "slide_type": "slide"
    }
   },
   "source": [
    "# Física\n",
    "\n",
    "Pilas incluye el motor de física Box2D. Sirve para realizar simulaciones y dotar al juego de mas realismo."
   ]
  },
  {
   "cell_type": "markdown",
   "metadata": {
    "slideshow": {
     "slide_type": "subslide"
    }
   },
   "source": [
    "![Pilas](img/25_fisica.png)"
   ]
  },
  {
   "cell_type": "markdown",
   "metadata": {
    "slideshow": {
     "slide_type": "slide"
    }
   },
   "source": [
    "## Modo Física\n",
    "\n",
    "Los actores que tienen física incluída están asociados a figuras geométricas. \n",
    "\n",
    "Para saber que figura tienen asociada debemos apretar la tecla F11 o pulsar el botón \"mostrar figuras físicas\" que aparece abajo a la derecha."
   ]
  },
  {
   "cell_type": "markdown",
   "metadata": {
    "collapsed": true,
    "slideshow": {
     "slide_type": "subslide"
    }
   },
   "source": [
    "![Pilas](img/26_modo_fisica.png)"
   ]
  },
  {
   "cell_type": "markdown",
   "metadata": {
    "slideshow": {
     "slide_type": "slide"
    }
   },
   "source": [
    "## Física personalizada\n",
    "\n",
    "Podemos dotar a nuestros propios actores con física. Para poder ver esto realicemos la siguiente actividad:\n",
    " * Activa el modo mostrar figuras físicas.\n",
    " * Crea dos figuras físicas, una estática y otra dinámica.\n",
    "```python\n",
    "circulo = pilas.fisica.Circulo(0, 0, 50, dinamica=False)\n",
    "circulo_dinamico = pilas.fisica.Circulo(10, 200, 50)\n",
    "```"
   ]
  },
  {
   "cell_type": "markdown",
   "metadata": {
    "slideshow": {
     "slide_type": "subslide"
    }
   },
   "source": [
    "![Pilas](img/27_circunferencias_fisica.png)"
   ]
  },
  {
   "cell_type": "markdown",
   "metadata": {
    "slideshow": {
     "slide_type": "slide"
    }
   },
   "source": [
    "Cuando desabilitamos el modo física las circunferencias no se ven. Vamos a asociarles actores. Un mono a la primer circunferencia y una bomba a la segunda.\n",
    " \n",
    "```python\n",
    "mono = pilas.actores.Mono()\n",
    "mono.aprender(pilas.habilidades.Imitar, circulo)\n",
    "\n",
    "bomba = pilas.actores.Bomba()\n",
    "bomba.aprender(pilas.habilidades.Imitar, circulo_dinamico)\n",
    "```"
   ]
  },
  {
   "cell_type": "markdown",
   "metadata": {
    "slideshow": {
     "slide_type": "subslide"
    }
   },
   "source": [
    "![Pilas](ActoresConFisica.png)"
   ]
  },
  {
   "cell_type": "markdown",
   "metadata": {
    "slideshow": {
     "slide_type": "subslide"
    }
   },
   "source": [
    "> PROBAR EN EL INTÉRPRETE\n",
    "\n",
    "Para cambiar la posición de la bomba ahora tengo que hacer referencia al **circulo_dinamico** \n",
    "\n",
    "```python\n",
    "circulo_dinamico.y = 200\n",
    "```"
   ]
  },
  {
   "cell_type": "markdown",
   "metadata": {
    "slideshow": {
     "slide_type": "subslide"
    }
   },
   "source": [
    "## Cambiar la gravedad\n",
    "\n",
    "Por defecto, la gravedad del escenario es de (0,-9) por lo cual los objetos se dirigen hacia abajo.\n",
    "Se puede variar la gravedad del escenario, por ejemplo:\n",
    "\n",
    "```python\n",
    "pilas.fisica.gravedad_x = 150\n",
    "pilas.fisica.gravedad_y = 150\n",
    "```"
   ]
  },
  {
   "cell_type": "markdown",
   "metadata": {
    "slideshow": {
     "slide_type": "slide"
    }
   },
   "source": [
    "## Colisiones\n",
    "\n",
    "Las colisiones permiten disparar acciones cuando dos o mas actores entran en contacto. Esto nos permite hacer que los personajes puedan chocar con enemigos o capturar objetos.\n",
    "\n",
    "Ejemplo: crear un mono que se pueda mover con el mouse y se alimente de bananas."
   ]
  },
  {
   "cell_type": "markdown",
   "metadata": {
    "slideshow": {
     "slide_type": "subslide"
    }
   },
   "source": [
    "```python\n",
    "mono = pilas.actores.Mono()\n",
    "mono.aprender(\"Arrastrable\")\n",
    "bananas = pilas.actores.Banana() * 10\n",
    "\n",
    "def cuando_colisiona(mono, banana):\n",
    "    banana.eliminar()\n",
    "    mono.sonreir()\n",
    "\n",
    "pilas.colisiones.agregar(mono, bananas, cuando_colisiona)\n",
    "```\n",
    "![Pilas](MonoBananas.png)"
   ]
  },
  {
   "cell_type": "markdown",
   "metadata": {
    "slideshow": {
     "slide_type": "slide"
    }
   },
   "source": [
    "## Ajustar las figuras de colisión\n",
    "\n",
    "Podemos cambiar el tamaño de la figura de colisión modificando el atributo **radio_de_colision**\n",
    "\n",
    "```python\n",
    "mono = pilas.actores.Mono()\n",
    "mono.radio_de_colision = 30\n",
    "mono.radio_de_colision = 80\n",
    "mono.radio_de_colision = 10\n",
    "```\n",
    "![Pilas](MonoRadioColision.png)"
   ]
  },
  {
   "cell_type": "markdown",
   "metadata": {
    "slideshow": {
     "slide_type": "slide"
    }
   },
   "source": [
    "## Cambiar la figura de colisión\n",
    "\n",
    "Se puede cambiar la figura geométrica asociada al actor. Por ejemplo:\n",
    "\n",
    "```python\n",
    "zanahoria_normal = pilas.actores.Zanahoria(x=-100)\n",
    "\n",
    "zanahoria = pilas.actores.Zanahoria(x=100)\n",
    "rectangulo = pilas.fisica.Rectangulo(0, 0, 40, 100, dinamica=False)\n",
    "zanahoria.figura_de_colision = rectangulo\n",
    "```\n",
    "![Pilas](CambioFiguras.png)"
   ]
  },
  {
   "cell_type": "markdown",
   "metadata": {
    "slideshow": {
     "slide_type": "slide"
    }
   },
   "source": [
    "## Imágenes de fondo\n",
    "\n",
    "Para agregar una imagen como fondo y que se replique en toda la pantalla debemos escribir el siguiente código:\n",
    "\n",
    "```python\n",
    "fondo = pilas.fondos.Fondo()\n",
    "fondo.imagen = pilas.imagenes.cargar('mi_fondo.png')\n",
    "\n",
    "fondo.imagen.repetir_vertical = True\n",
    "fondo.imagen.repetir_horizontal = True\n",
    "```"
   ]
  },
  {
   "cell_type": "markdown",
   "metadata": {
    "slideshow": {
     "slide_type": "subslide"
    }
   },
   "source": [
    "![Pilas](fondoVioleta.png)"
   ]
  },
  {
   "cell_type": "markdown",
   "metadata": {
    "slideshow": {
     "slide_type": "slide"
    }
   },
   "source": [
    "## Grilla de imágenes\n",
    "\n",
    "Una manera conveniente de almacenar un conjunto de imágenes de tu personaje es usar una grilla.\n",
    "\n",
    "Por ejemplo: la imagen siguiente es una grilla de 10 columnas. Representa al personaje **pingu**\n",
    "![Pilas](Pinguinos.png)"
   ]
  },
  {
   "cell_type": "markdown",
   "metadata": {
    "slideshow": {
     "slide_type": "subslide"
    }
   },
   "source": [
    "Para cargar la grilla se debe escribir el siguiente código:\n",
    "\n",
    "```python\n",
    "actor = pilas.actores.Actor()\n",
    "#El último argumento hace referencia a la cantidad de columnas que tiene la grilla\n",
    "grilla = pilas.imagenes.cargar_grilla(\"pingu.png\", 10)\n",
    "#Esta instrucción mostrará el primer cuadro de la grilla\n",
    "actor.imagen = grilla        \n",
    "```\n",
    "![Pilas](pinguino.png)"
   ]
  },
  {
   "cell_type": "markdown",
   "metadata": {
    "slideshow": {
     "slide_type": "slide"
    }
   },
   "source": [
    "## Reproduciendo animaciones\n",
    "\n",
    "Se puede crear el actor **Animacion** para mostrar los cuadros de una grilla una y otra vez.\n",
    "\n",
    "```python\n",
    "grilla = pilas.imagenes.cargar_grilla(\"pingu.png\", 10)\n",
    "p = pilas.actores.Animacion(grilla, True)    #El segundo argumento indica que la animación tiene que ser cíclica (nunca termina)\n",
    "```\n",
    "\n",
    "Se puede variar la velocidad con la que se tiene que reproducir la animación (Es medida en cuadro por segundo)\n",
    "Por ejemplo:\n",
    "```python\n",
    "p = pilas.actores.Animacion(grilla, False, velocidad=1) #Muestra un cuadro por segundo y se elimina cuando termina\n",
    "```"
   ]
  },
  {
   "cell_type": "markdown",
   "metadata": {
    "slideshow": {
     "slide_type": "slide"
    }
   },
   "source": [
    "## Animaciones\n",
    "\n",
    "Tenemos una grilla con 6 cuadros, los cuales se enumeran de la siguiente manera:\n",
    "\n",
    "![Pilas](GrillaNumerada.png)\n",
    "\n",
    "Se puede indicar a Pilas como cargar la animación y especificar los cuadros a utilizar.\n",
    "\n",
    "```python\n",
    "animacion = pilas.imagenes.cargar_animacion('alien-simple.png', 6)\n",
    "\n",
    "animacion.definir_animacion('baja_palanca', [0, 1, 4], 10)      # Se especifican los cuadros y la velocidad\n",
    "animacion.definir_animacion('parado', [3, 3, 3, 3, 4, 5, 4], 10)\n",
    "```"
   ]
  },
  {
   "cell_type": "markdown",
   "metadata": {
    "slideshow": {
     "slide_type": "slide"
    }
   },
   "source": [
    "En el siguiente ejemplo vemos la animación del actor y la animación que se mostrará en cada momento:\n",
    "\n",
    "```python\n",
    "import pilasengine\n",
    "\n",
    "pilas = pilasengine.iniciar()\n",
    "\n",
    "class MiActor(pilasengine.actores.Actor):\n",
    "    def iniciar(self):\n",
    "        animacion = pilas.imagenes.cargar_animacion('alien-simple.png',6)\n",
    "        animacion.definir_animacion('parado',[3,3,3,3,4,5,4],10)\n",
    "        animacion.definir_animacion('baja',[0,1,4],10)\n",
    "        self.imagen = animacion\n",
    "        #self.imagen.cargar_animacion('parado')\n",
    "```        "
   ]
  },
  {
   "cell_type": "markdown",
   "metadata": {
    "slideshow": {
     "slide_type": "subslide"
    }
   },
   "source": [
    "```python\n",
    "\n",
    "    def actualizar(self):\n",
    "        self.imagen.avanzar()\n",
    "        if pilas.control.izquierda:\n",
    "            self.x -= 5\n",
    "            self.espejado = True\n",
    "            self.imagen.cargar_animacion('parado')\n",
    "        if pilas.control.derecha:\n",
    "            self.x += 5\n",
    "            self.espejado = False\n",
    "            self.imagen.cargar_animacion('baja')\n",
    "\n",
    "\n",
    "mi_actor = MiActor(pilas)          \n",
    "\n",
    "pilas.ejecutar()\n",
    "\n",
    "```"
   ]
  },
  {
   "cell_type": "markdown",
   "metadata": {
    "slideshow": {
     "slide_type": "slide"
    }
   },
   "source": [
    "## Desafío:\n",
    "\n",
    "Crear la clase Pinguino con sus acciones y animaciones. Utilizar la grilla **\"Pinguinos.png\"**"
   ]
  },
  {
   "cell_type": "code",
   "execution_count": 4,
   "metadata": {
    "collapsed": false,
    "slideshow": {
     "slide_type": "skip"
    }
   },
   "outputs": [
    {
     "name": "stderr",
     "output_type": "stream",
     "text": [
      "[NbConvertApp] Converting notebook Segunda Clase Taller Pilas.ipynb to slides\n",
      "[NbConvertApp] Writing 293422 bytes to Segunda Clase Taller Pilas.slides.html\n"
     ]
    }
   ],
   "source": [
    "!jupyter nbconvert --reveal-prefix ./reveal.js/ --to slides  \"Segunda Clase Taller Pilas.ipynb\""
   ]
  },
  {
   "cell_type": "code",
   "execution_count": null,
   "metadata": {
    "collapsed": true,
    "slideshow": {
     "slide_type": "skip"
    }
   },
   "outputs": [],
   "source": [
    "!open Segunda\\ Clase\\ Taller\\ Pilas.slides.html"
   ]
  }
 ],
 "metadata": {
  "anaconda-cloud": {},
  "celltoolbar": "Slideshow",
  "kernelspec": {
   "display_name": "Python 2",
   "language": "python",
   "name": "python2"
  },
  "language_info": {
   "codemirror_mode": {
    "name": "ipython",
    "version": 2
   },
   "file_extension": ".py",
   "mimetype": "text/x-python",
   "name": "python",
   "nbconvert_exporter": "python",
   "pygments_lexer": "ipython2",
   "version": "2.7.12"
  }
 },
 "nbformat": 4,
 "nbformat_minor": 0
}
